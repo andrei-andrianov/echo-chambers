{
 "cells": [
  {
   "cell_type": "code",
   "execution_count": 150,
   "metadata": {
    "collapsed": true
   },
   "outputs": [],
   "source": [
    "import requests\n",
    "import time\n",
    "import json\n",
    "import csv\n",
    "from datetime import datetime, date, time, timedelta\n",
    "import random"
   ]
  },
  {
   "cell_type": "code",
   "execution_count": 151,
   "metadata": {
    "collapsed": true
   },
   "outputs": [],
   "source": [
    "def get_id_list_from_file(filename):\n",
    "    with open(filename,'r') as file:\n",
    "        id_list = json.load(file)\n",
    "        \n",
    "    return id_list"
   ]
  },
  {
   "cell_type": "code",
   "execution_count": 152,
   "metadata": {
    "collapsed": true
   },
   "outputs": [],
   "source": [
    "sci_id_list = get_id_list_from_file('IDs_SCI.json')\n",
    "mys_id_list = get_id_list_from_file('IDs_MYS.json')"
   ]
  },
  {
   "cell_type": "code",
   "execution_count": 153,
   "metadata": {
    "collapsed": true
   },
   "outputs": [],
   "source": [
    "token = '988386c4311c0661e1fea9e2d88e3c3d69ba9f777819194dae8e5bb7b50579239850bece14d1a42bd613f&expires_in=86400&user_id=17159132'\n",
    "link = 'https://oauth.vk.com/authorize?client_id=6306832&display=page&redirect_uri=https://oauth.vk.com/blank.html&scope=friends&response_type=token'"
   ]
  },
  {
   "cell_type": "code",
   "execution_count": 154,
   "metadata": {
    "collapsed": true
   },
   "outputs": [],
   "source": [
    "def get_members_id_list(owner_id):    \n",
    "    members_id_list =  []\n",
    "\n",
    "    #first iteration for first 25k chunk\n",
    "    try:\n",
    "        r = requests.post('https://api.vk.com/method/execute.aa04201d?group_id='+\n",
    "                          str(owner_id)+'&offset='+str(0)+'&count='+str(25000)+'&access_token='+token).json()['response']\n",
    "    except KeyError as e:\n",
    "        print(r)\n",
    "        \n",
    "    members_count = r[0] #number of total members\n",
    "    \n",
    "    print('Community: ', owner_id, ', members: ',members_count)\n",
    "    \n",
    "    members_id_list.extend(r[1]) #extend for a chunk of 25k\n",
    "    \n",
    "    if members_count > 25000:\n",
    "        print('Community members > 25000. Starting loop..')\n",
    "        for offset in range(25000, members_count, 25000):\n",
    "\n",
    "            try:\n",
    "                r = requests.post('https://api.vk.com/method/execute.aa04201d?group_id='+\n",
    "                                  str(owner_id)+'&offset='+str(offset)+'&count='+str(25000)+'&access_token='+token).json()['response']\n",
    "            except KeyError as e:\n",
    "                print(r)\n",
    "                \n",
    "            members_id_list.extend(r[1])\n",
    "\n",
    "            #t.sleep(.35)\n",
    "        print('ID collected for community successfully: ')\n",
    "    else:\n",
    "        print('ID collected for community(<25k) successfully: ')\n",
    "\n",
    "    return members_id_list"
   ]
  },
  {
   "cell_type": "code",
   "execution_count": 155,
   "metadata": {
    "collapsed": true,
    "scrolled": true
   },
   "outputs": [],
   "source": [
    "def dump_all(foldername,id_list):\n",
    "    \n",
    "    for item in id_list:\n",
    "        \n",
    "        filename = foldername+'/'+item+'/'+'MEM_'+item+'.json'\n",
    "        \n",
    "        with open(filename,'w') as file:\n",
    "            data = get_members_id_list(-int(item))\n",
    "            json.dump(data,file,indent=2,ensure_ascii=False)\n",
    "        \n",
    "        file.close()"
   ]
  },
  {
   "cell_type": "code",
   "execution_count": 156,
   "metadata": {},
   "outputs": [
    {
     "name": "stdout",
     "output_type": "stream",
     "text": [
      "Community:  37160097 , members:  301667\n",
      "Community members > 25000. Starting loop..\n",
      "[301667, '']\n",
      "ID collected for community successfully: \n",
      "Community:  46252034 , members:  567515\n",
      "Community members > 25000. Starting loop..\n",
      "[567515, '']\n",
      "[567515, '']\n",
      "[567515, '']\n",
      "[567515, '']\n",
      "ID collected for community successfully: \n",
      "Community:  91933860 , members:  141155\n",
      "Community members > 25000. Starting loop..\n",
      "[141155, '']\n",
      "ID collected for community successfully: \n",
      "Community:  127924894 , members:  12540\n",
      "ID collected for community(<25k) successfully: \n",
      "Community:  55155418 , members:  220955\n",
      "Community members > 25000. Starting loop..\n",
      "[220955, '']\n",
      "ID collected for community successfully: \n",
      "Community:  83013121 , members:  147380\n",
      "Community members > 25000. Starting loop..\n",
      "ID collected for community successfully: \n",
      "Community:  23637723 , members:  87060\n",
      "Community members > 25000. Starting loop..\n",
      "[87060, '']\n",
      "ID collected for community successfully: \n",
      "Community:  89379348 , members:  81040\n",
      "Community members > 25000. Starting loop..\n",
      "ID collected for community successfully: \n",
      "Community:  63066646 , members:  69667\n",
      "Community members > 25000. Starting loop..\n",
      "ID collected for community successfully: \n",
      "Community:  84068967 , members:  1206944\n",
      "Community members > 25000. Starting loop..\n",
      "[1206944, '']\n",
      "[1206944, '']\n",
      "[1206944, '']\n",
      "[1206944, '']\n",
      "[1206944, '']\n",
      "[1206944, '']\n",
      "[1206944, '']\n",
      "ID collected for community successfully: \n"
     ]
    },
    {
     "ename": "FileNotFoundError",
     "evalue": "[Errno 2] No such file or directory: 'SCI/-30698831/MEM_-30698831.json'",
     "output_type": "error",
     "traceback": [
      "\u001b[0;31m---------------------------------------------------------------------------\u001b[0m",
      "\u001b[0;31mFileNotFoundError\u001b[0m                         Traceback (most recent call last)",
      "\u001b[0;32m<ipython-input-156-005561da6dfd>\u001b[0m in \u001b[0;36m<module>\u001b[0;34m()\u001b[0m\n\u001b[0;32m----> 1\u001b[0;31m \u001b[0mdump_all\u001b[0m\u001b[0;34m(\u001b[0m\u001b[0;34m'SCI'\u001b[0m\u001b[0;34m,\u001b[0m\u001b[0msci_id_list\u001b[0m\u001b[0;34m)\u001b[0m\u001b[0;34m\u001b[0m\u001b[0m\n\u001b[0m",
      "\u001b[0;32m<ipython-input-155-af4863845d8b>\u001b[0m in \u001b[0;36mdump_all\u001b[0;34m(foldername, id_list)\u001b[0m\n\u001b[1;32m      5\u001b[0m         \u001b[0mfilename\u001b[0m \u001b[0;34m=\u001b[0m \u001b[0mfoldername\u001b[0m\u001b[0;34m+\u001b[0m\u001b[0;34m'/'\u001b[0m\u001b[0;34m+\u001b[0m\u001b[0mitem\u001b[0m\u001b[0;34m+\u001b[0m\u001b[0;34m'/'\u001b[0m\u001b[0;34m+\u001b[0m\u001b[0;34m'MEM_'\u001b[0m\u001b[0;34m+\u001b[0m\u001b[0mitem\u001b[0m\u001b[0;34m+\u001b[0m\u001b[0;34m'.json'\u001b[0m\u001b[0;34m\u001b[0m\u001b[0m\n\u001b[1;32m      6\u001b[0m \u001b[0;34m\u001b[0m\u001b[0m\n\u001b[0;32m----> 7\u001b[0;31m         \u001b[0;32mwith\u001b[0m \u001b[0mopen\u001b[0m\u001b[0;34m(\u001b[0m\u001b[0mfilename\u001b[0m\u001b[0;34m,\u001b[0m\u001b[0;34m'w'\u001b[0m\u001b[0;34m)\u001b[0m \u001b[0;32mas\u001b[0m \u001b[0mfile\u001b[0m\u001b[0;34m:\u001b[0m\u001b[0;34m\u001b[0m\u001b[0m\n\u001b[0m\u001b[1;32m      8\u001b[0m             \u001b[0mdata\u001b[0m \u001b[0;34m=\u001b[0m \u001b[0mget_members_id_list\u001b[0m\u001b[0;34m(\u001b[0m\u001b[0;34m-\u001b[0m\u001b[0mint\u001b[0m\u001b[0;34m(\u001b[0m\u001b[0mitem\u001b[0m\u001b[0;34m)\u001b[0m\u001b[0;34m)\u001b[0m\u001b[0;34m\u001b[0m\u001b[0m\n\u001b[1;32m      9\u001b[0m             \u001b[0mjson\u001b[0m\u001b[0;34m.\u001b[0m\u001b[0mdump\u001b[0m\u001b[0;34m(\u001b[0m\u001b[0mdata\u001b[0m\u001b[0;34m,\u001b[0m\u001b[0mfile\u001b[0m\u001b[0;34m,\u001b[0m\u001b[0mindent\u001b[0m\u001b[0;34m=\u001b[0m\u001b[0;36m2\u001b[0m\u001b[0;34m,\u001b[0m\u001b[0mensure_ascii\u001b[0m\u001b[0;34m=\u001b[0m\u001b[0;32mFalse\u001b[0m\u001b[0;34m)\u001b[0m\u001b[0;34m\u001b[0m\u001b[0m\n",
      "\u001b[0;31mFileNotFoundError\u001b[0m: [Errno 2] No such file or directory: 'SCI/-30698831/MEM_-30698831.json'"
     ]
    }
   ],
   "source": [
    "dump_all('SCI',sci_id_list)"
   ]
  },
  {
   "cell_type": "code",
   "execution_count": null,
   "metadata": {
    "collapsed": true
   },
   "outputs": [],
   "source": []
  }
 ],
 "metadata": {
  "kernelspec": {
   "display_name": "Python 3",
   "language": "python",
   "name": "python3"
  },
  "language_info": {
   "codemirror_mode": {
    "name": "ipython",
    "version": 3
   },
   "file_extension": ".py",
   "mimetype": "text/x-python",
   "name": "python",
   "nbconvert_exporter": "python",
   "pygments_lexer": "ipython3",
   "version": "3.6.3"
  }
 },
 "nbformat": 4,
 "nbformat_minor": 2
}
