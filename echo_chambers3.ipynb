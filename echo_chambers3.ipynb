{
 "cells": [
  {
   "cell_type": "code",
   "execution_count": 167,
   "metadata": {
    "collapsed": true
   },
   "outputs": [],
   "source": [
    "import requests\n",
    "import json\n",
    "import time as t\n",
    "import pytz\n",
    "from datetime import datetime, timedelta, date\n",
    "import io\n",
    "import os"
   ]
  },
  {
   "cell_type": "code",
   "execution_count": 168,
   "metadata": {
    "collapsed": true
   },
   "outputs": [],
   "source": [
    "wall_id_list_sc = ['-37160097','-46252034','-91933860','-127924894','-55155418', '-29559271'\n",
    "                   '-83013121','-23637723','-89379348','-63066646','-84068967','-30698831','-36507793','-27737784']\n",
    "wall_id_list_ufo = ['-18061985','-3403','-5783844','-42121567','-5798603','-60138573',\n",
    "                    '-108756567','-51626109','-69519452','-170107','-38764280','-35353580','-78289865','-32108399']\n",
    "wall_id_list_mys = ['-38984737','-51626109','-42981469','-78022224']\n",
    "\n",
    "access_token = '16fed931172679afa79d5b507986f330942ae12524bd5bc415ca3114a25f2c58b78d0105a6a79f13ebb37'\n",
    "\n",
    "#https://oauth.vk.com/authorize?client_id=6306832&display=page&redirect_uri=https://oauth.vk.com/blank.html&scope=friends&response_type=token\n",
    "\n",
    "epoch_timestamp = 1356998400#GMT: Tuesday, 1 January 2013 00:00:00\n",
    "API_URL = 'https://api.vk.com/method/'"
   ]
  },
  {
   "cell_type": "code",
   "execution_count": 169,
   "metadata": {
    "collapsed": true
   },
   "outputs": [],
   "source": [
    "def write_file(data,filename):\n",
    "    with open(filename, mode='a') as file:\n",
    "        json.dump(data,file,indent=2,ensure_ascii=False)"
   ]
  },
  {
   "cell_type": "code",
   "execution_count": 170,
   "metadata": {
    "collapsed": true
   },
   "outputs": [],
   "source": [
    "def get_posts(owner_id):\n",
    "#     directory = folder_name+'/'+i\n",
    "#     group_filename = ''+i+'.json'\n",
    "\n",
    "#     if not os.path.exists(directory):\n",
    "#         os.makedirs(directory)\n",
    "\n",
    "#     group_file = open(directory+'/'+group_filename, 'w')        \n",
    "\n",
    "    posts = []\n",
    "    last_post_timestamp = 1\n",
    "\n",
    "    while (last_post_timestamp<epoch_timestamp):\n",
    "\n",
    "        response = requests.get('https://api.vk.com/method/execute.aa04201f?',params={'owner_id': owner_id, 'access_token': access_token}).json()\n",
    "\n",
    "        print(response)\n",
    "        posts.extend(response)\n",
    "        last_post_timestamp = int(posts[-1:]['date'])\n",
    "#         write_file(posts,directory+'/'+group_filename)\n",
    "\n",
    "#     group_file.close()"
   ]
  },
  {
   "cell_type": "code",
   "execution_count": 171,
   "metadata": {
    "collapsed": true
   },
   "outputs": [],
   "source": [
    "def group_id_to_file():\n",
    "    output_sci = []\n",
    "    output_mys = []\n",
    "    \n",
    "    for i in wall_id_list_ufo:\n",
    "        output_mys.append(i)\n",
    "            \n",
    "    for i in wall_id_list_mys:\n",
    "        output_mys.append(i)\n",
    "            \n",
    "    for i in wall_id_list_sc:\n",
    "        output_sci.append(i)\n",
    "        \n",
    "    with open('IDs_SCI.json','w') as file:\n",
    "        json.dump(output_sci,file,indent=2,ensure_ascii=False)\n",
    "        \n",
    "    with open('IDs_MYS.json','w') as file:\n",
    "        json.dump(output_mys,file,indent=2,ensure_ascii=False)"
   ]
  },
  {
   "cell_type": "code",
   "execution_count": 172,
   "metadata": {
    "collapsed": true
   },
   "outputs": [],
   "source": [
    "def recieve_posts(page_id, last_days):\n",
    "    deadline = datetime(2018,1,1, tzinfo=pytz.utc) - timedelta(days=last_days)\n",
    "    unix_stamp = int(deadline.strftime(\"%s\"))\n",
    "    print('Timestamp: '+str(unix_stamp))\n",
    "\n",
    "    params = {'access_token': access_token,\n",
    "              'id': page_id,\n",
    "              'deadline':  unix_stamp if last_days != -1 else last_days\n",
    "              }\n",
    "    \n",
    "    received_posts = []\n",
    "\n",
    "    offset = 0\n",
    "    ONGOING = True\n",
    "    \n",
    "    while ONGOING:\n",
    "        params['offset'] = offset\n",
    "        response = json.loads(requests.post(\n",
    "            API_URL + 'execute.getPosts?', params=params).text)\n",
    "\n",
    "        if not 'response' in response:\n",
    "            print('Response Error!\\n'+str(response))\n",
    "            break\n",
    "\n",
    "        received_data = response['response']\n",
    "        \n",
    "        for chunk in received_data:\n",
    "            chunk_size = len(chunk['ids'])\n",
    "            \n",
    "            for i in range(chunk_size):\n",
    "                post = dict()\n",
    "                post['date'] = datetime.fromtimestamp(chunk['dates'][i])\n",
    "                \n",
    "                if  last_days == -1 or post['date'].year >= deadline.year and post['date'].month >= deadline.month and post['date'].day >= deadline.day:\n",
    "                    post['id'] = chunk['ids'][i]\n",
    "                    post['likes'] = chunk['likes'][i]\n",
    "                    post['reposts'] = chunk['reposts'][i]\n",
    "                    post['comments'] = chunk['comments'][i]\n",
    "                    received_posts.append(post)\n",
    "                    \n",
    "            if 'stop' in chunk:\n",
    "                ONGOING = False\n",
    "                break\n",
    "                \n",
    "        offset += 1\n",
    "\n",
    "    return received_posts"
   ]
  },
  {
   "cell_type": "code",
   "execution_count": 173,
   "metadata": {},
   "outputs": [
    {
     "name": "stdout",
     "output_type": "stream",
     "text": [
      "Timestamp: 1357081200\n"
     ]
    }
   ],
   "source": [
    "temp = recieve_posts(-42981469, 1825)"
   ]
  },
  {
   "cell_type": "code",
   "execution_count": 174,
   "metadata": {
    "collapsed": true
   },
   "outputs": [],
   "source": [
    "# for i in wall_id_list_mys:\n",
    "#     temp = recieve_posts(i,1826)\n",
    "#     write_file(temp, 'MYS_'+str(i))\n",
    "    \n",
    "# for i in wall_id_list_ufo:\n",
    "#     temp = recieve_posts(i,1826)\n",
    "#     write_file(temp, 'UFO_'+str(i))\n",
    "    \n",
    "# for i in wall_id_list_sc:\n",
    "#     temp = recieve_posts(i,1826)\n",
    "#     write_file(temp, 'SCI_'+str(i))\n",
    "    "
   ]
  }
 ],
 "metadata": {
  "kernelspec": {
   "display_name": "Python 3",
   "language": "python",
   "name": "python3"
  },
  "language_info": {
   "codemirror_mode": {
    "name": "ipython",
    "version": 3
   },
   "file_extension": ".py",
   "mimetype": "text/x-python",
   "name": "python",
   "nbconvert_exporter": "python",
   "pygments_lexer": "ipython3",
   "version": "3.6.3"
  }
 },
 "nbformat": 4,
 "nbformat_minor": 2
}
